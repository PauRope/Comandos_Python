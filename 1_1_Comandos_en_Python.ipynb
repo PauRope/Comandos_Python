{
  "nbformat": 4,
  "nbformat_minor": 0,
  "metadata": {
    "colab": {
      "provenance": [],
      "authorship_tag": "ABX9TyPqKI47zw3eoNUYW5TBrHA6",
      "include_colab_link": true
    },
    "kernelspec": {
      "name": "python3",
      "display_name": "Python 3"
    },
    "language_info": {
      "name": "python"
    }
  },
  "cells": [
    {
      "cell_type": "markdown",
      "metadata": {
        "id": "view-in-github",
        "colab_type": "text"
      },
      "source": [
        "<a href=\"https://colab.research.google.com/github/PauRope/Comandos_Python/blob/main/1_1_Comandos_en_Python.ipynb\" target=\"_parent\"><img src=\"https://colab.research.google.com/assets/colab-badge.svg\" alt=\"Open In Colab\"/></a>"
      ]
    },
    {
      "cell_type": "code",
      "execution_count": null,
      "metadata": {
        "colab": {
          "base_uri": "https://localhost:8080/"
        },
        "id": "2x2KnYRcKSOf",
        "outputId": "745c095f-0adc-4999-8ec8-2452c1727880"
      },
      "outputs": [
        {
          "output_type": "execute_result",
          "data": {
            "text/plain": [
              "(2.14+1.73j)"
            ]
          },
          "metadata": {},
          "execution_count": 9
        }
      ],
      "source": [
        ">>> c = 3.14 + 2.73j\n",
        ">>> c = complex(3.14, 2.73) # Lo mismo que arriba\n",
        ">>> c.real # parte real\n",
        "3.14\n",
        ">>> c.imag # parte imaginaria\n",
        "2.73\n",
        ">>> c.conjugate() # conjugado de A + Bj es A - Bj (3.14-2.73j)\n",
        ">>> c * 2 # se permite la multiplicacion (6.28+5.46j)\n",
        ">>> c ** 2 # funcionamiento de la operacion (2.4067000000000007+17.1444j)\n",
        ">>> d = 1 + 1j # suma y resta tambien\n",
        ">>> c - d"
      ]
    },
    {
      "cell_type": "code",
      "source": [
        ">>> pi = 3.1415926536 # aqui creamos la variable a utilizar\n",
        ">>> radius = 4.5. #se crea el indice del radio\n",
        ">>> area = pi * (radius ** 2) #s multiplican las variables\n",
        ">>> area #resultado del area\n"
      ],
      "metadata": {
        "colab": {
          "base_uri": "https://localhost:8080/"
        },
        "id": "_QD61QWtLzd4",
        "outputId": "70f5481a-845a-43bc-9db5-64c8d2db5785"
      },
      "execution_count": null,
      "outputs": [
        {
          "output_type": "execute_result",
          "data": {
            "text/plain": [
              "63.617251235400005"
            ]
          },
          "metadata": {},
          "execution_count": 8
        }
      ]
    },
    {
      "cell_type": "code",
      "source": [
        ">>> s = \"The trouble is you think you have time.\"\n",
        ">>> s[0] # indexar la posicion 0, del primer caracter 'T'\n",
        ">>> s[5] # indexar la posicion 5, con el sexto caracter 'r'\n",
        ">>> s[:4] # cortando especificaremos solo la posicion de parada\n",
        "'The '\n",
        "\n",
        "'The '\n",
        ">>> s[4:] # aqui indicaremos solo la posicion de inicio 'trouble is you think you have time.'\n",
        ">>> s[2:14] # cortaremos las posiciones de inicio y de alto\n",
        "'e trouble is'\n",
        ">>> s[2:14:3] # cortar, comenzamos a parar y agregar un paso (cada 3 caracteres) 'erb '\n",
        ">>> s[:] # se realiza la copia"
      ],
      "metadata": {
        "colab": {
          "base_uri": "https://localhost:8080/",
          "height": 38
        },
        "id": "3Wl9d-3vL0Qp",
        "outputId": "e535aec0-cb67-47c9-87c4-03bfaca4ab6a"
      },
      "execution_count": null,
      "outputs": [
        {
          "output_type": "execute_result",
          "data": {
            "text/plain": [
              "'The trouble is you think you have time.'"
            ],
            "application/vnd.google.colaboratory.intrinsic+json": {
              "type": "string"
            }
          },
          "metadata": {},
          "execution_count": 13
        }
      ]
    },
    {
      "cell_type": "code",
      "source": [
        ">>> bytearray() # insertamos bytearray con objeto vacio\n",
        "bytearray(b'')\n",
        ">>> bytearray(10) # dado el nombre, insertaremos una variable numerica dentro del ray (b'\\x00\\x00\\x00\\x00\\x00\\x00\\x00\\x00\\x00\\x00')\n",
        ">>> bytearray(range(5)) # bytearray de iterable con las variables ya mencionadas(b'\\x00\\x01\\x02\\x03\\x04')\n",
        ">>> name = bytearray(b'Lina') #A - bytearray para bytes con su nombre dado\n",
        ">>> name.replace(b'L', b'l')\n",
        "bytearray(b'lina')\n",
        ">>> name.endswith(b'na')\n",
        "True\n",
        ">>> name.upper()\n",
        "bytearray(b'LINA')\n",
        ">>> name.count(b'L') # el redultado debera de ser uno al ser funcionable este programa"
      ],
      "metadata": {
        "colab": {
          "base_uri": "https://localhost:8080/"
        },
        "id": "REyAErw9L0j9",
        "outputId": "757c9642-76b8-49a2-a803-652ccdb6e99c"
      },
      "execution_count": null,
      "outputs": [
        {
          "output_type": "execute_result",
          "data": {
            "text/plain": [
              "1"
            ]
          },
          "metadata": {},
          "execution_count": 25
        }
      ]
    },
    {
      "cell_type": "code",
      "source": [
        ">>> GREEN = 1\n",
        ">>> YELLOW = 2\n",
        ">>> RED = 4\n",
        ">>> TRAFFIC_LIGHTS = (GREEN, YELLOW, RED)\n",
        ">>> # or with a dict\n",
        ">>> traffic_lights = {'GREEN': 1, 'YELLOW': 2, 'RED': 4}"
      ],
      "metadata": {
        "id": "vifBUCPdbX6f"
      },
      "execution_count": null,
      "outputs": []
    },
    {
      "cell_type": "code",
      "source": [
        ">>> a = 1000000 # creamos variable con valor numerico\n",
        ">>> b = 1000000\n",
        ">>> id(a) == id(b) #se igualan valores ya que es diferente variable y mismo valor"
      ],
      "metadata": {
        "colab": {
          "base_uri": "https://localhost:8080/"
        },
        "id": "aPI9ljgHh_l4",
        "outputId": "130f9273-ec61-41cc-de60-25b17afd4a69"
      },
      "execution_count": null,
      "outputs": [
        {
          "output_type": "execute_result",
          "data": {
            "text/plain": [
              "False"
            ]
          },
          "metadata": {},
          "execution_count": 29
        }
      ]
    },
    {
      "cell_type": "code",
      "source": [
        ">>> a = 5 #misma creacion de variables\n",
        ">>> b = 5\n",
        ">>> id(a) == id(b) #igualar valores"
      ],
      "metadata": {
        "colab": {
          "base_uri": "https://localhost:8080/"
        },
        "id": "IUbbDXA4inAV",
        "outputId": "3736bd84-4ab3-434c-c090-0d81aa8d0915"
      },
      "execution_count": null,
      "outputs": [
        {
          "output_type": "execute_result",
          "data": {
            "text/plain": [
              "True"
            ]
          },
          "metadata": {},
          "execution_count": 30
        }
      ]
    },
    {
      "cell_type": "code",
      "source": [
        "# arguments.positional.py\n",
        "def func(a, b, c): #Esta funcion se registrara con las variables\n",
        "    print(a, b, c) #Esta funcion imprimira las variables que se mandaron llamar\n",
        "func(1, 2, 3) # esto imprimira directamente la funcion prints: 1 2 3"
      ],
      "metadata": {
        "colab": {
          "base_uri": "https://localhost:8080/"
        },
        "id": "ZWg2fwt9n3we",
        "outputId": "199e52c5-10d6-4577-982d-bebb634da72c"
      },
      "execution_count": null,
      "outputs": [
        {
          "output_type": "stream",
          "name": "stdout",
          "text": [
            "1 2 3\n"
          ]
        }
      ]
    },
    {
      "cell_type": "code",
      "source": [
        "# arguments.unpack.iterable.py #argumentos con la libreria a utilizar\n",
        "def func(a, b, c): #definimos variables\n",
        "    print(a, b, c) #Imprimimos las mismas\n",
        "values = (1, 3, -7) #definimos valores para estas\n",
        "func(*values) # Esto sera equivalente a un resultado de: func(1, 3, -7)"
      ],
      "metadata": {
        "colab": {
          "base_uri": "https://localhost:8080/"
        },
        "id": "-8S8XyOxpWtL",
        "outputId": "dfef24f7-4a00-47cc-b547-fc48475cb936"
      },
      "execution_count": null,
      "outputs": [
        {
          "output_type": "stream",
          "name": "stdout",
          "text": [
            "1 3 -7\n"
          ]
        }
      ]
    },
    {
      "cell_type": "code",
      "source": [
        "# arguments.unpack.dict.py #accion de desembalar o deshacer los argumentos\n",
        "def func(a, b, c): #Definimos la funcion\n",
        "    print(a, b, c) #Imprimimos la funcion\n",
        "values = {'b': 1, 'c': 2, 'a': 42}\n",
        "func(**values) # Esto sera equivalente a la funcion(b=1, c=2, a=42)"
      ],
      "metadata": {
        "colab": {
          "base_uri": "https://localhost:8080/"
        },
        "id": "W1z4MpiiYM3-",
        "outputId": "b8d5e7e3-c8e6-4981-a313-c269da683d6a"
      },
      "execution_count": null,
      "outputs": [
        {
          "output_type": "stream",
          "name": "stdout",
          "text": [
            "42 1 2\n"
          ]
        }
      ]
    },
    {
      "cell_type": "code",
      "source": [
        "# return.multiple.py # Devolver variables multiples\n",
        "def moddiv(a, b): #definir la funcion\n",
        "    return a // b, a % b #Devolver la funcion\n",
        "print(moddiv(20, 7)) #imprimir la funcion mediante print"
      ],
      "metadata": {
        "colab": {
          "base_uri": "https://localhost:8080/"
        },
        "id": "__rQYm29pmbf",
        "outputId": "f34f8ebb-be16-4171-cac5-28b4feba41db"
      },
      "execution_count": null,
      "outputs": [
        {
          "output_type": "stream",
          "name": "stdout",
          "text": [
            "(2, 6)\n"
          ]
        }
      ]
    },
    {
      "cell_type": "code",
      "source": [
        "# json_examples/json_basic.py\n",
        "import sys #comenzamos importando librerias\n",
        "import json\n",
        "data = {\n",
        "    'big_number': 2 ** 3141, #importamos datos e infomacion\n",
        "    'max_float': sys.float_info.max,\n",
        "    'a_list': [2, 3, 5, 7],\n",
        "}\n",
        "json_data = json.dumps(data)\n",
        "data_out = json.loads(json_data)\n",
        "assert data == data_out # json imprimira los datos en cado de haber"
      ],
      "metadata": {
        "id": "NLAstjZNpm2n"
      },
      "execution_count": null,
      "outputs": []
    },
    {
      "cell_type": "code",
      "source": [
        "# json_examples/json_basic.py\n",
        "import json\n",
        "info = {\n",
        "    'full_name': 'Sherlock Holmes',\n",
        "    'address': {\n",
        "        'street': '221B Baker St',\n",
        "        'zip': 'NW1 6XE',\n",
        "        'city': 'London',\n",
        "        'country': 'UK',\n",
        "} }\n",
        "print(json.dumps(info, indent=2, sort_keys=True))"
      ],
      "metadata": {
        "colab": {
          "base_uri": "https://localhost:8080/"
        },
        "id": "MMo6WhvEpm-3",
        "outputId": "34903d6a-5403-4fb2-c109-e2a587ca8d80"
      },
      "execution_count": null,
      "outputs": [
        {
          "output_type": "stream",
          "name": "stdout",
          "text": [
            "{\n",
            "  \"address\": {\n",
            "    \"city\": \"London\",\n",
            "    \"country\": \"UK\",\n",
            "    \"street\": \"221B Baker St\",\n",
            "    \"zip\": \"NW1 6XE\"\n",
            "  },\n",
            "  \"full_name\": \"Sherlock Holmes\"\n",
            "}\n"
          ]
        }
      ]
    },
    {
      "cell_type": "code",
      "source": [
        "# json_examples/json_cplx.py\n",
        "import json #importamos librerias\n",
        "class ComplexEncoder(json.JSONEncoder): #definimos metodos y atributos a utilizar\n",
        "    def default(self, obj): #definimos variables\n",
        "        print(f\"ComplexEncoder.default: {obj=}\")\n",
        "        if isinstance(obj, complex):\n",
        "            return {\n",
        "                '_meta': '_complex',\n",
        "                'num': [obj.real, obj.imag],\n",
        "            }\n",
        "        return super().default(obj) #devolvemos\n",
        "data = {\n",
        "    'an_int': 42,\n",
        "    'a_float': 3.14159265,\n",
        "    'a_complex': 3 + 4j,\n",
        "}\n",
        "json_data = json.dumps(data, cls=ComplexEncoder)\n",
        "print(json_data)\n",
        "def object_hook(obj):\n",
        "    print(f\"object_hook: {obj=}\")\n",
        "    try:\n",
        "        if obj['_meta'] == '_complex':\n",
        "            return complex(*obj['num'])\n",
        "    except KeyError:\n",
        "        return obj\n",
        "data_out = json.loads(json_data, object_hook=object_hook)\n",
        "print(data_out) #imprimimos"
      ],
      "metadata": {
        "colab": {
          "base_uri": "https://localhost:8080/"
        },
        "id": "e017nz6SuHbn",
        "outputId": "4f13b482-42db-481a-8ff4-c2453f8988ff"
      },
      "execution_count": null,
      "outputs": [
        {
          "output_type": "stream",
          "name": "stdout",
          "text": [
            "ComplexEncoder.default: obj=(3+4j)\n",
            "{\"an_int\": 42, \"a_float\": 3.14159265, \"a_complex\": {\"_meta\": \"_complex\", \"num\": [3.0, 4.0]}}\n",
            "object_hook: obj={'_meta': '_complex', 'num': [3.0, 4.0]}\n",
            "object_hook: obj={'an_int': 42, 'a_float': 3.14159265, 'a_complex': (3+4j)}\n",
            "{'an_int': 42, 'a_float': 3.14159265, 'a_complex': (3+4j)}\n"
          ]
        }
      ]
    },
    {
      "cell_type": "code",
      "source": [
        "# io_examples/string_io.py\n",
        "import io #importamos libreria\n",
        "stream = io.StringIO()\n",
        "stream.write('Learning Python Programming.\\n') #escribimos lo que queremos que el programa envie.\n",
        "print('Become a Python ninja!', file=stream)\n",
        "contents = stream.getvalue()\n",
        "print(contents) #imprimimos contenido\n"
      ],
      "metadata": {
        "colab": {
          "base_uri": "https://localhost:8080/"
        },
        "id": "nCyUL8YUuHlX",
        "outputId": "d35d46a4-cad4-45ab-8cb5-eb948505959f"
      },
      "execution_count": null,
      "outputs": [
        {
          "output_type": "stream",
          "name": "stdout",
          "text": [
            "Learning Python Programming.\n",
            "Become a Python ninja!\n",
            "\n"
          ]
        }
      ]
    },
    {
      "cell_type": "code",
      "source": [
        "# persistence/alchemy_models.py\n",
        "from sqlalchemy.ext.declarative import declarative_base\n",
        "from sqlalchemy import (\n",
        "    Column, Integer, String, ForeignKey, create_engine)\n",
        "from sqlalchemy.orm import relationship\n",
        "# persistence/alchemy_models.py\n",
        "engine = create_engine('sqlite:///:memory:')\n",
        "Base = declarative_base()\n",
        "class Person(Base):\n",
        "    __tablename__ = 'person'\n",
        "    id = Column(Integer, primary_key=True)\n",
        "    name = Column(String)\n",
        "    age = Column(Integer)\n",
        "    addresses = relationship(\n",
        "        'Address',\n",
        "        back_populates='person',\n",
        "        order_by='Address.email',\n",
        "        cascade='all, delete-orphan'\n",
        "    )\n",
        "    def __repr__(self):\n",
        "        return f'{self.name}(id={self.id})'\n",
        "class Address(Base):\n",
        "    __tablename__ = 'address'\n",
        "    id = Column(Integer, primary_key=True)\n",
        "    email = Column(String)\n",
        "    person_id = Column(ForeignKey('person.id'))\n",
        "    person = relationship('Person', back_populates='addresses')\n",
        "    def __str__(self):\n",
        "        return self.email\n",
        "    __repr__ = __str__\n",
        "Base.metadata.create_all(engine)"
      ],
      "metadata": {
        "colab": {
          "base_uri": "https://localhost:8080/"
        },
        "id": "1-OKmF63vN28",
        "outputId": "f0589511-5131-47f6-a544-0b3ada69e1b1"
      },
      "execution_count": null,
      "outputs": [
        {
          "output_type": "stream",
          "name": "stderr",
          "text": [
            "<ipython-input-15-0ac6a1bed4bd>:8: MovedIn20Warning: The ``declarative_base()`` function is now available as sqlalchemy.orm.declarative_base(). (deprecated since: 2.0) (Background on SQLAlchemy 2.0 at: https://sqlalche.me/e/b8d9)\n",
            "  Base = declarative_base()\n"
          ]
        }
      ]
    },
    {
      "cell_type": "code",
      "source": [
        "# io_examples/reqs.py\n",
        "import requests #importamos librerias\n",
        "urls = {\n",
        "    \"get\": \"https://httpbin.org/get?t=learn+python+programming\", #Llamamos urls previamente\n",
        "    \"headers\": \"https://httpbin.org/headers\",\n",
        "    \"ip\": \"https://httpbin.org/ip\",\n",
        "    \"user-agent\": \"https://httpbin.org/user-agent\",\n",
        "    \"UUID\": \"https://httpbin.org/uuid\",\n",
        "    \"JSON\": \"https://httpbin.org/json\", #llamamos cada urls que debe estar guardado en el equipo\n",
        "}\n",
        "def get_content(title, url): #definimos el contenido\n",
        "    resp = requests.get(url)\n",
        "    print(f\"Response for {title}\")\n",
        "    print(resp.json())\n",
        "for title, url in urls.items():\n",
        "    get_content(title, url)\n",
        "    print(\"-\" * 40) #imprimimos"
      ],
      "metadata": {
        "colab": {
          "base_uri": "https://localhost:8080/"
        },
        "id": "cjA66W8pyOxY",
        "outputId": "ba8ef5d4-2360-4e69-ea62-e9046af0877b"
      },
      "execution_count": null,
      "outputs": [
        {
          "output_type": "stream",
          "name": "stdout",
          "text": [
            "Response for get\n",
            "{'args': {'t': 'learn python programming'}, 'headers': {'Accept': '*/*', 'Accept-Encoding': 'gzip, deflate', 'Host': 'httpbin.org', 'User-Agent': 'python-requests/2.31.0', 'X-Amzn-Trace-Id': 'Root=1-6507e18d-618e879b0efa79e93dde0328'}, 'origin': '35.226.181.103', 'url': 'https://httpbin.org/get?t=learn+python+programming'}\n",
            "----------------------------------------\n",
            "Response for headers\n",
            "{'headers': {'Accept': '*/*', 'Accept-Encoding': 'gzip, deflate', 'Host': 'httpbin.org', 'User-Agent': 'python-requests/2.31.0', 'X-Amzn-Trace-Id': 'Root=1-6507e18d-7bf26b072d1703bb5927f6bc'}}\n",
            "----------------------------------------\n",
            "Response for ip\n",
            "{'origin': '35.226.181.103'}\n",
            "----------------------------------------\n",
            "Response for user-agent\n",
            "{'user-agent': 'python-requests/2.31.0'}\n",
            "----------------------------------------\n",
            "Response for UUID\n",
            "{'uuid': '35396b26-b7e7-4cca-9e40-5554192d9850'}\n",
            "----------------------------------------\n",
            "Response for JSON\n",
            "{'slideshow': {'author': 'Yours Truly', 'date': 'date of publication', 'slides': [{'title': 'Wake up to WonderWidgets!', 'type': 'all'}, {'items': ['Why <em>WonderWidgets</em> are great', 'Who <em>buys</em> WonderWidgets'], 'title': 'Overview', 'type': 'all'}], 'title': 'Sample Slide Show'}}\n",
            "----------------------------------------\n"
          ]
        }
      ]
    },
    {
      "cell_type": "code",
      "source": [
        "# files/open_with.py\n",
        "with open('fear.txt') as fh: #abrir el archivo anteriormente guardao\n",
        "    for line in fh: #deninir lineas\n",
        "        print(line.strip()) #imprimir"
      ],
      "metadata": {
        "colab": {
          "base_uri": "https://localhost:8080/",
          "height": 235
        },
        "id": "FQD9H3y80ATb",
        "outputId": "6c0d8a12-7aef-4b9c-92ea-cb89169584f9"
      },
      "execution_count": null,
      "outputs": [
        {
          "output_type": "error",
          "ename": "FileNotFoundError",
          "evalue": "ignored",
          "traceback": [
            "\u001b[0;31m---------------------------------------------------------------------------\u001b[0m",
            "\u001b[0;31mFileNotFoundError\u001b[0m                         Traceback (most recent call last)",
            "\u001b[0;32m<ipython-input-30-559b0567bc35>\u001b[0m in \u001b[0;36m<cell line: 2>\u001b[0;34m()\u001b[0m\n\u001b[1;32m      1\u001b[0m \u001b[0;31m# files/open_with.py\u001b[0m\u001b[0;34m\u001b[0m\u001b[0;34m\u001b[0m\u001b[0m\n\u001b[0;32m----> 2\u001b[0;31m \u001b[0;32mwith\u001b[0m \u001b[0mopen\u001b[0m\u001b[0;34m(\u001b[0m\u001b[0;34m'fear.txt'\u001b[0m\u001b[0;34m)\u001b[0m \u001b[0;32mas\u001b[0m \u001b[0mfh\u001b[0m\u001b[0;34m:\u001b[0m\u001b[0;34m\u001b[0m\u001b[0;34m\u001b[0m\u001b[0m\n\u001b[0m\u001b[1;32m      3\u001b[0m     \u001b[0;32mfor\u001b[0m \u001b[0mline\u001b[0m \u001b[0;32min\u001b[0m \u001b[0mfh\u001b[0m\u001b[0;34m:\u001b[0m\u001b[0;34m\u001b[0m\u001b[0;34m\u001b[0m\u001b[0m\n\u001b[1;32m      4\u001b[0m         \u001b[0mprint\u001b[0m\u001b[0;34m(\u001b[0m\u001b[0mline\u001b[0m\u001b[0;34m.\u001b[0m\u001b[0mstrip\u001b[0m\u001b[0;34m(\u001b[0m\u001b[0;34m)\u001b[0m\u001b[0;34m)\u001b[0m\u001b[0;34m\u001b[0m\u001b[0;34m\u001b[0m\u001b[0m\n",
            "\u001b[0;31mFileNotFoundError\u001b[0m: [Errno 2] No such file or directory: 'fear.txt'"
          ]
        }
      ]
    },
    {
      "cell_type": "code",
      "source": [
        "# files/print_file.py\n",
        "with open('print_example.txt', 'w') as fw: #abrimos el archivo\n",
        "    print('Hey I am printing into a file!!!', file=fw) #imprimimos funcion"
      ],
      "metadata": {
        "id": "iJPWZH280_63"
      },
      "execution_count": null,
      "outputs": []
    },
    {
      "cell_type": "code",
      "source": [
        "# files/read_write_bin.py\n",
        "with open('example.bin', 'wb') as fw: #abriremos archivo\n",
        "    fw.write(b'This is binary data...')\n",
        "with open('example.bin', 'rb') as f:\n",
        "print(f.read()) #imprimira el resultado"
      ],
      "metadata": {
        "colab": {
          "base_uri": "https://localhost:8080/",
          "height": 145
        },
        "id": "9Fui8pAj1j6X",
        "outputId": "ae46eebc-780b-4096-fe9d-5a9532ca3257"
      },
      "execution_count": null,
      "outputs": [
        {
          "output_type": "error",
          "ename": "IndentationError",
          "evalue": "ignored",
          "traceback": [
            "\u001b[0;36m  File \u001b[0;32m\"<ipython-input-33-b5871fc61a18>\"\u001b[0;36m, line \u001b[0;32m5\u001b[0m\n\u001b[0;31m    print(f.read())\u001b[0m\n\u001b[0m    ^\u001b[0m\n\u001b[0;31mIndentationError\u001b[0m\u001b[0;31m:\u001b[0m expected an indented block after 'with' statement on line 4\n"
          ]
        }
      ]
    }
  ]
}